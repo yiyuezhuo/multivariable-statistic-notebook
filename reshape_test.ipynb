{
 "cells": [
  {
   "cell_type": "code",
   "execution_count": 1,
   "metadata": {
    "collapsed": true
   },
   "outputs": [],
   "source": [
    "library(reshape2)"
   ]
  },
  {
   "cell_type": "code",
   "execution_count": 6,
   "metadata": {
    "collapsed": false
   },
   "outputs": [
    {
     "data": {
      "text/html": [
       "<table>\n",
       "<thead><tr><th scope=col>id</th><th scope=col>time</th><th scope=col>X1</th><th scope=col>X2</th></tr></thead>\n",
       "<tbody>\n",
       "\t<tr><td>1</td><td>1</td><td>5</td><td>6</td></tr>\n",
       "\t<tr><td>1</td><td>2</td><td>3</td><td>5</td></tr>\n",
       "\t<tr><td>2</td><td>1</td><td>6</td><td>1</td></tr>\n",
       "\t<tr><td>2</td><td>2</td><td>2</td><td>4</td></tr>\n",
       "</tbody>\n",
       "</table>\n"
      ],
      "text/latex": [
       "\\begin{tabular}{r|llll}\n",
       " id & time & X1 & X2\\\\\n",
       "\\hline\n",
       "\t 1 & 1 & 5 & 6\\\\\n",
       "\t 1 & 2 & 3 & 5\\\\\n",
       "\t 2 & 1 & 6 & 1\\\\\n",
       "\t 2 & 2 & 2 & 4\\\\\n",
       "\\end{tabular}\n"
      ],
      "text/plain": [
       "  id time X1 X2\n",
       "1 1  1    5  6 \n",
       "2 1  2    3  5 \n",
       "3 2  1    6  1 \n",
       "4 2  2    2  4 "
      ]
     },
     "metadata": {},
     "output_type": "display_data"
    }
   ],
   "source": [
    "mydata <- data.frame(id = c(1,1,2,2), time = c(1,2,1,2), X1=c(5,3,6,2), X2=c(6,5,1,4))\n",
    "mydata"
   ]
  },
  {
   "cell_type": "code",
   "execution_count": 7,
   "metadata": {
    "collapsed": false
   },
   "outputs": [
    {
     "data": {
      "text/html": [
       "<table>\n",
       "<thead><tr><th scope=col>id</th><th scope=col>time</th><th scope=col>variable</th><th scope=col>value</th></tr></thead>\n",
       "<tbody>\n",
       "\t<tr><td>1 </td><td>1 </td><td>X1</td><td>5 </td></tr>\n",
       "\t<tr><td>1 </td><td>2 </td><td>X1</td><td>3 </td></tr>\n",
       "\t<tr><td>2 </td><td>1 </td><td>X1</td><td>6 </td></tr>\n",
       "\t<tr><td>2 </td><td>2 </td><td>X1</td><td>2 </td></tr>\n",
       "\t<tr><td>1 </td><td>1 </td><td>X2</td><td>6 </td></tr>\n",
       "\t<tr><td>1 </td><td>2 </td><td>X2</td><td>5 </td></tr>\n",
       "\t<tr><td>2 </td><td>1 </td><td>X2</td><td>1 </td></tr>\n",
       "\t<tr><td>2 </td><td>2 </td><td>X2</td><td>4 </td></tr>\n",
       "</tbody>\n",
       "</table>\n"
      ],
      "text/latex": [
       "\\begin{tabular}{r|llll}\n",
       " id & time & variable & value\\\\\n",
       "\\hline\n",
       "\t 1  & 1  & X1 & 5 \\\\\n",
       "\t 1  & 2  & X1 & 3 \\\\\n",
       "\t 2  & 1  & X1 & 6 \\\\\n",
       "\t 2  & 2  & X1 & 2 \\\\\n",
       "\t 1  & 1  & X2 & 6 \\\\\n",
       "\t 1  & 2  & X2 & 5 \\\\\n",
       "\t 2  & 1  & X2 & 1 \\\\\n",
       "\t 2  & 2  & X2 & 4 \\\\\n",
       "\\end{tabular}\n"
      ],
      "text/plain": [
       "  id time variable value\n",
       "1 1  1    X1       5    \n",
       "2 1  2    X1       3    \n",
       "3 2  1    X1       6    \n",
       "4 2  2    X1       2    \n",
       "5 1  1    X2       6    \n",
       "6 1  2    X2       5    \n",
       "7 2  1    X2       1    \n",
       "8 2  2    X2       4    "
      ]
     },
     "metadata": {},
     "output_type": "display_data"
    }
   ],
   "source": [
    "md <- melt(mydata,id=c(\"id\",\"time\"))\n",
    "md"
   ]
  },
  {
   "cell_type": "code",
   "execution_count": 12,
   "metadata": {
    "collapsed": false,
    "scrolled": true
   },
   "outputs": [
    {
     "data": {
      "text/html": [
       "<table>\n",
       "<thead><tr><th scope=col>id</th><th scope=col>time</th><th scope=col>X1</th><th scope=col>X2</th></tr></thead>\n",
       "<tbody>\n",
       "\t<tr><td>1</td><td>1</td><td>5</td><td>6</td></tr>\n",
       "\t<tr><td>1</td><td>2</td><td>3</td><td>5</td></tr>\n",
       "\t<tr><td>2</td><td>1</td><td>6</td><td>1</td></tr>\n",
       "\t<tr><td>2</td><td>2</td><td>2</td><td>4</td></tr>\n",
       "</tbody>\n",
       "</table>\n"
      ],
      "text/latex": [
       "\\begin{tabular}{r|llll}\n",
       " id & time & X1 & X2\\\\\n",
       "\\hline\n",
       "\t 1 & 1 & 5 & 6\\\\\n",
       "\t 1 & 2 & 3 & 5\\\\\n",
       "\t 2 & 1 & 6 & 1\\\\\n",
       "\t 2 & 2 & 2 & 4\\\\\n",
       "\\end{tabular}\n"
      ],
      "text/plain": [
       "  id time X1 X2\n",
       "1 1  1    5  6 \n",
       "2 1  2    3  5 \n",
       "3 2  1    6  1 \n",
       "4 2  2    2  4 "
      ]
     },
     "metadata": {},
     "output_type": "display_data"
    }
   ],
   "source": [
    "dcast(md, id + time ~variable)"
   ]
  },
  {
   "cell_type": "code",
   "execution_count": 13,
   "metadata": {
    "collapsed": false
   },
   "outputs": [
    {
     "data": {
      "text/html": [
       "<table>\n",
       "<thead><tr><th scope=col>id</th><th scope=col>variable</th><th scope=col>1</th><th scope=col>2</th></tr></thead>\n",
       "<tbody>\n",
       "\t<tr><td>1 </td><td>X1</td><td>5 </td><td>3 </td></tr>\n",
       "\t<tr><td>1 </td><td>X2</td><td>6 </td><td>5 </td></tr>\n",
       "\t<tr><td>2 </td><td>X1</td><td>6 </td><td>2 </td></tr>\n",
       "\t<tr><td>2 </td><td>X2</td><td>1 </td><td>4 </td></tr>\n",
       "</tbody>\n",
       "</table>\n"
      ],
      "text/latex": [
       "\\begin{tabular}{r|llll}\n",
       " id & variable & 1 & 2\\\\\n",
       "\\hline\n",
       "\t 1  & X1 & 5  & 3 \\\\\n",
       "\t 1  & X2 & 6  & 5 \\\\\n",
       "\t 2  & X1 & 6  & 2 \\\\\n",
       "\t 2  & X2 & 1  & 4 \\\\\n",
       "\\end{tabular}\n"
      ],
      "text/plain": [
       "  id variable 1 2\n",
       "1 1  X1       5 3\n",
       "2 1  X2       6 5\n",
       "3 2  X1       6 2\n",
       "4 2  X2       1 4"
      ]
     },
     "metadata": {},
     "output_type": "display_data"
    }
   ],
   "source": [
    "dcast(md, id + variable ~ time)"
   ]
  },
  {
   "cell_type": "code",
   "execution_count": 14,
   "metadata": {
    "collapsed": false
   },
   "outputs": [
    {
     "data": {
      "text/html": [
       "<table>\n",
       "<thead><tr><th scope=col>id</th><th scope=col>X1_1</th><th scope=col>X1_2</th><th scope=col>X2_1</th><th scope=col>X2_2</th></tr></thead>\n",
       "<tbody>\n",
       "\t<tr><td>1</td><td>5</td><td>3</td><td>6</td><td>5</td></tr>\n",
       "\t<tr><td>2</td><td>6</td><td>2</td><td>1</td><td>4</td></tr>\n",
       "</tbody>\n",
       "</table>\n"
      ],
      "text/latex": [
       "\\begin{tabular}{r|lllll}\n",
       " id & X1\\_1 & X1\\_2 & X2\\_1 & X2\\_2\\\\\n",
       "\\hline\n",
       "\t 1 & 5 & 3 & 6 & 5\\\\\n",
       "\t 2 & 6 & 2 & 1 & 4\\\\\n",
       "\\end{tabular}\n"
      ],
      "text/plain": [
       "  id X1_1 X1_2 X2_1 X2_2\n",
       "1 1  5    3    6    5   \n",
       "2 2  6    2    1    4   "
      ]
     },
     "metadata": {},
     "output_type": "display_data"
    }
   ],
   "source": [
    "dcast(md, id ~ variable + time)"
   ]
  },
  {
   "cell_type": "code",
   "execution_count": 15,
   "metadata": {
    "collapsed": false
   },
   "outputs": [
    {
     "data": {
      "text/html": [
       "<table>\n",
       "<thead><tr><th scope=col>id</th><th scope=col>X1</th><th scope=col>X2</th></tr></thead>\n",
       "<tbody>\n",
       "\t<tr><td>1  </td><td>4  </td><td>5.5</td></tr>\n",
       "\t<tr><td>2  </td><td>4  </td><td>2.5</td></tr>\n",
       "</tbody>\n",
       "</table>\n"
      ],
      "text/latex": [
       "\\begin{tabular}{r|lll}\n",
       " id & X1 & X2\\\\\n",
       "\\hline\n",
       "\t 1   & 4   & 5.5\\\\\n",
       "\t 2   & 4   & 2.5\\\\\n",
       "\\end{tabular}\n"
      ],
      "text/plain": [
       "  id X1 X2 \n",
       "1 1  4  5.5\n",
       "2 2  4  2.5"
      ]
     },
     "metadata": {},
     "output_type": "display_data"
    }
   ],
   "source": [
    "dcast(md, id ~ variable, mean)"
   ]
  },
  {
   "cell_type": "code",
   "execution_count": 16,
   "metadata": {
    "collapsed": false
   },
   "outputs": [
    {
     "data": {
      "text/html": [
       "<table>\n",
       "<thead><tr><th scope=col>time</th><th scope=col>X1</th><th scope=col>X2</th></tr></thead>\n",
       "<tbody>\n",
       "\t<tr><td>1  </td><td>5.5</td><td>3.5</td></tr>\n",
       "\t<tr><td>2  </td><td>2.5</td><td>4.5</td></tr>\n",
       "</tbody>\n",
       "</table>\n"
      ],
      "text/latex": [
       "\\begin{tabular}{r|lll}\n",
       " time & X1 & X2\\\\\n",
       "\\hline\n",
       "\t 1   & 5.5 & 3.5\\\\\n",
       "\t 2   & 2.5 & 4.5\\\\\n",
       "\\end{tabular}\n"
      ],
      "text/plain": [
       "  time X1  X2 \n",
       "1 1    5.5 3.5\n",
       "2 2    2.5 4.5"
      ]
     },
     "metadata": {},
     "output_type": "display_data"
    }
   ],
   "source": [
    "dcast(md, time ~ variable, mean)"
   ]
  },
  {
   "cell_type": "code",
   "execution_count": 17,
   "metadata": {
    "collapsed": false
   },
   "outputs": [
    {
     "data": {
      "text/html": [
       "<table>\n",
       "<thead><tr><th scope=col>id</th><th scope=col>1</th><th scope=col>2</th></tr></thead>\n",
       "<tbody>\n",
       "\t<tr><td>1  </td><td>5.5</td><td>4  </td></tr>\n",
       "\t<tr><td>2  </td><td>3.5</td><td>3  </td></tr>\n",
       "</tbody>\n",
       "</table>\n"
      ],
      "text/latex": [
       "\\begin{tabular}{r|lll}\n",
       " id & 1 & 2\\\\\n",
       "\\hline\n",
       "\t 1   & 5.5 & 4  \\\\\n",
       "\t 2   & 3.5 & 3  \\\\\n",
       "\\end{tabular}\n"
      ],
      "text/plain": [
       "  id 1   2\n",
       "1 1  5.5 4\n",
       "2 2  3.5 3"
      ]
     },
     "metadata": {},
     "output_type": "display_data"
    }
   ],
   "source": [
    "dcast(md, id ~ time, mean)"
   ]
  },
  {
   "cell_type": "markdown",
   "metadata": {},
   "source": [
    "简单地说melt接受一个对列（名）的划分，其中一部分保留做新data.frame的列。其余列全部被编码为两列，即原列名为varaible列的取值，\n",
    "在该列的取值被定义为在value列的取值。\n",
    "\n",
    "cast(reshape2改成了dcast与acast，显式指定目标是data.frame还是array)。并不对接受对象有什么特别要求，比如要来自melt之类的，\n",
    "它对variable,value也只不过看成普通的列名。\n",
    "\n",
    "cast保留公式左边的列，对右边的列则转化为对应所有取值的笛卡尔积（以`_`分开）。\n",
    "这时可以看成左边列的几个取值和右边特定一列表示的一组右公式的特定值复合后，\n",
    "符合条件的表的另外一列（这个列一般是value，不给定时会通过一个guess函数猜测是哪个列）的元素组成的集合。\n",
    "该集合只有一个元素时不需要整合函数或者可以看成给了默认的恒等函数。有多个元素时不给整合函数会报警告并自动应用length函数。总之必须映射为一个数。\n",
    "可见cast时，公式里出现的左列右列和value列外的其他列其实没起作用，它们对应的元被整合掉了。"
   ]
  },
  {
   "cell_type": "code",
   "execution_count": 31,
   "metadata": {
    "collapsed": false
   },
   "outputs": [
    {
     "data": {
      "text/html": [
       "<table>\n",
       "<thead><tr><th scope=col>nf</th><th scope=col>x1</th><th scope=col>x2</th><th scope=col>x3</th><th scope=col>x4</th><th scope=col>x5</th><th scope=col>x6</th></tr></thead>\n",
       "<tbody>\n",
       "\t<tr><td>1978    </td><td>  306.00</td><td> 299.00 </td><td> 0.0    </td><td>  0.00  </td><td>   0.00 </td><td> 0.00   </td></tr>\n",
       "\t<tr><td>1979    </td><td>  340.00</td><td> 332.00 </td><td> 0.0    </td><td>  0.00  </td><td>   0.00 </td><td> 0.00   </td></tr>\n",
       "\t<tr><td>1980    </td><td>  429.00</td><td> 419.00 </td><td> 0.0    </td><td>  0.00  </td><td>   0.00 </td><td> 0.00   </td></tr>\n",
       "\t<tr><td>1981    </td><td>  482.05</td><td> 491.07 </td><td>55.2    </td><td> 35.99  </td><td>   0.00 </td><td> 0.00   </td></tr>\n",
       "\t<tr><td>1982    </td><td>  508.54</td><td> 491.62 </td><td>57.4    </td><td> 40.74  </td><td>   0.00 </td><td> 0.00   </td></tr>\n",
       "\t<tr><td>1983    </td><td>  530.45</td><td> 501.89 </td><td>58.3    </td><td> 39.57  </td><td>   0.00 </td><td> 9.47   </td></tr>\n",
       "\t<tr><td>1984    </td><td>  642.87</td><td> 561.37 </td><td>58.0    </td><td> 39.51  </td><td>   0.00 </td><td> 9.63   </td></tr>\n",
       "\t<tr><td>1985    </td><td>  889.01</td><td> 861.64 </td><td>50.2    </td><td> 33.88  </td><td>   0.00 </td><td> 9.71   </td></tr>\n",
       "\t<tr><td>1986    </td><td> 1108.93</td><td>1056.48 </td><td>50.1    </td><td> 43.42  </td><td>   0.00 </td><td> 9.69   </td></tr>\n",
       "\t<tr><td>1987    </td><td> 1191.00</td><td>1075.27 </td><td>56.5    </td><td> 50.58  </td><td>   0.00 </td><td>10.08   </td></tr>\n",
       "\t<tr><td>1988    </td><td> 1518.66</td><td>1468.52 </td><td>52.1    </td><td> 57.21  </td><td>   0.00 </td><td>10.87   </td></tr>\n",
       "\t<tr><td>1989    </td><td> 1741.61</td><td>1542.52 </td><td>56.4    </td><td> 56.78  </td><td>   0.00 </td><td>11.49   </td></tr>\n",
       "\t<tr><td>1990    </td><td> 1963.18</td><td>1627.64 </td><td>56.2    </td><td> 73.89  </td><td>  38.24 </td><td>11.67   </td></tr>\n",
       "\t<tr><td>1991    </td><td> 2182.46</td><td>1854.22 </td><td>56.8    </td><td> 93.48  </td><td>  47.91 </td><td>11.95   </td></tr>\n",
       "\t<tr><td>1992    </td><td> 2673.74</td><td>2203.60 </td><td>52.5    </td><td> 84.69  </td><td>  57.56 </td><td>12.00   </td></tr>\n",
       "\t<tr><td>1993    </td><td> 3983.01</td><td>3138.56 </td><td>48.4    </td><td>113.37  </td><td>  71.00 </td><td>12.06   </td></tr>\n",
       "\t<tr><td>1994    </td><td> 6008.46</td><td>4442.09 </td><td>47.4    </td><td>151.15  </td><td> 153.98 </td><td>12.94   </td></tr>\n",
       "\t<tr><td>1995    </td><td> 7274.74</td><td>5565.68 </td><td>48.5    </td><td>239.52  </td><td> 194.62 </td><td>13.06   </td></tr>\n",
       "\t<tr><td>1996    </td><td> 8353.65</td><td>6544.73 </td><td>46.2    </td><td>300.81  </td><td> 307.95 </td><td>12.82   </td></tr>\n",
       "\t<tr><td>1997    </td><td> 9068.81</td><td>7188.71 </td><td>43.6    </td><td>336.28  </td><td> 419.19 </td><td>13.07   </td></tr>\n",
       "\t<tr><td>1998    </td><td> 9193.15</td><td>7911.94 </td><td>39.5    </td><td>342.39  </td><td> 542.78 </td><td>13.66   </td></tr>\n",
       "\t<tr><td>1999    </td><td> 9491.69</td><td>7493.31 </td><td>40.8    </td><td>316.26  </td><td> 556.93 </td><td>14.55   </td></tr>\n",
       "\t<tr><td>2000    </td><td>10921.31</td><td>7997.37 </td><td>39.8    </td><td>407.61  </td><td> 656.28 </td><td>15.26   </td></tr>\n",
       "\t<tr><td>2001    </td><td>11991.14</td><td>9463.07 </td><td>34.3    </td><td>510.10  </td><td>1091.85 </td><td>16.15   </td></tr>\n",
       "\t<tr><td>2002    </td><td>12969.89</td><td>9396.45 </td><td>40.3    </td><td>954.53  </td><td>1062.13 </td><td>16.16   </td></tr>\n",
       "</tbody>\n",
       "</table>\n"
      ],
      "text/latex": [
       "\\begin{tabular}{r|lllllll}\n",
       " nf & x1 & x2 & x3 & x4 & x5 & x6\\\\\n",
       "\\hline\n",
       "\t 1978     &   306.00 &  299.00  &  0.0     &   0.00   &    0.00  &  0.00   \\\\\n",
       "\t 1979     &   340.00 &  332.00  &  0.0     &   0.00   &    0.00  &  0.00   \\\\\n",
       "\t 1980     &   429.00 &  419.00  &  0.0     &   0.00   &    0.00  &  0.00   \\\\\n",
       "\t 1981     &   482.05 &  491.07  & 55.2     &  35.99   &    0.00  &  0.00   \\\\\n",
       "\t 1982     &   508.54 &  491.62  & 57.4     &  40.74   &    0.00  &  0.00   \\\\\n",
       "\t 1983     &   530.45 &  501.89  & 58.3     &  39.57   &    0.00  &  9.47   \\\\\n",
       "\t 1984     &   642.87 &  561.37  & 58.0     &  39.51   &    0.00  &  9.63   \\\\\n",
       "\t 1985     &   889.01 &  861.64  & 50.2     &  33.88   &    0.00  &  9.71   \\\\\n",
       "\t 1986     &  1108.93 & 1056.48  & 50.1     &  43.42   &    0.00  &  9.69   \\\\\n",
       "\t 1987     &  1191.00 & 1075.27  & 56.5     &  50.58   &    0.00  & 10.08   \\\\\n",
       "\t 1988     &  1518.66 & 1468.52  & 52.1     &  57.21   &    0.00  & 10.87   \\\\\n",
       "\t 1989     &  1741.61 & 1542.52  & 56.4     &  56.78   &    0.00  & 11.49   \\\\\n",
       "\t 1990     &  1963.18 & 1627.64  & 56.2     &  73.89   &   38.24  & 11.67   \\\\\n",
       "\t 1991     &  2182.46 & 1854.22  & 56.8     &  93.48   &   47.91  & 11.95   \\\\\n",
       "\t 1992     &  2673.74 & 2203.60  & 52.5     &  84.69   &   57.56  & 12.00   \\\\\n",
       "\t 1993     &  3983.01 & 3138.56  & 48.4     & 113.37   &   71.00  & 12.06   \\\\\n",
       "\t 1994     &  6008.46 & 4442.09  & 47.4     & 151.15   &  153.98  & 12.94   \\\\\n",
       "\t 1995     &  7274.74 & 5565.68  & 48.5     & 239.52   &  194.62  & 13.06   \\\\\n",
       "\t 1996     &  8353.65 & 6544.73  & 46.2     & 300.81   &  307.95  & 12.82   \\\\\n",
       "\t 1997     &  9068.81 & 7188.71  & 43.6     & 336.28   &  419.19  & 13.07   \\\\\n",
       "\t 1998     &  9193.15 & 7911.94  & 39.5     & 342.39   &  542.78  & 13.66   \\\\\n",
       "\t 1999     &  9491.69 & 7493.31  & 40.8     & 316.26   &  556.93  & 14.55   \\\\\n",
       "\t 2000     & 10921.31 & 7997.37  & 39.8     & 407.61   &  656.28  & 15.26   \\\\\n",
       "\t 2001     & 11991.14 & 9463.07  & 34.3     & 510.10   & 1091.85  & 16.15   \\\\\n",
       "\t 2002     & 12969.89 & 9396.45  & 40.3     & 954.53   & 1062.13  & 16.16   \\\\\n",
       "\\end{tabular}\n"
      ],
      "text/plain": [
       "   nf   x1       x2      x3   x4     x5      x6   \n",
       "1  1978   306.00  299.00  0.0   0.00    0.00  0.00\n",
       "2  1979   340.00  332.00  0.0   0.00    0.00  0.00\n",
       "3  1980   429.00  419.00  0.0   0.00    0.00  0.00\n",
       "4  1981   482.05  491.07 55.2  35.99    0.00  0.00\n",
       "5  1982   508.54  491.62 57.4  40.74    0.00  0.00\n",
       "6  1983   530.45  501.89 58.3  39.57    0.00  9.47\n",
       "7  1984   642.87  561.37 58.0  39.51    0.00  9.63\n",
       "8  1985   889.01  861.64 50.2  33.88    0.00  9.71\n",
       "9  1986  1108.93 1056.48 50.1  43.42    0.00  9.69\n",
       "10 1987  1191.00 1075.27 56.5  50.58    0.00 10.08\n",
       "11 1988  1518.66 1468.52 52.1  57.21    0.00 10.87\n",
       "12 1989  1741.61 1542.52 56.4  56.78    0.00 11.49\n",
       "13 1990  1963.18 1627.64 56.2  73.89   38.24 11.67\n",
       "14 1991  2182.46 1854.22 56.8  93.48   47.91 11.95\n",
       "15 1992  2673.74 2203.60 52.5  84.69   57.56 12.00\n",
       "16 1993  3983.01 3138.56 48.4 113.37   71.00 12.06\n",
       "17 1994  6008.46 4442.09 47.4 151.15  153.98 12.94\n",
       "18 1995  7274.74 5565.68 48.5 239.52  194.62 13.06\n",
       "19 1996  8353.65 6544.73 46.2 300.81  307.95 12.82\n",
       "20 1997  9068.81 7188.71 43.6 336.28  419.19 13.07\n",
       "21 1998  9193.15 7911.94 39.5 342.39  542.78 13.66\n",
       "22 1999  9491.69 7493.31 40.8 316.26  556.93 14.55\n",
       "23 2000 10921.31 7997.37 39.8 407.61  656.28 15.26\n",
       "24 2001 11991.14 9463.07 34.3 510.10 1091.85 16.15\n",
       "25 2002 12969.89 9396.45 40.3 954.53 1062.13 16.16"
      ]
     },
     "metadata": {},
     "output_type": "display_data"
    }
   ],
   "source": [
    "tsdf <- read.csv('ts.csv')\n",
    "tsdf"
   ]
  },
  {
   "cell_type": "code",
   "execution_count": 36,
   "metadata": {
    "collapsed": false
   },
   "outputs": [
    {
     "data": {
      "text/html": [
       "<table>\n",
       "<thead><tr><th scope=col>nf</th><th scope=col>variable</th><th scope=col>value</th></tr></thead>\n",
       "<tbody>\n",
       "\t<tr><td>1978  </td><td>x1    </td><td>306.00</td></tr>\n",
       "\t<tr><td>1979  </td><td>x1    </td><td>340.00</td></tr>\n",
       "\t<tr><td>1980  </td><td>x1    </td><td>429.00</td></tr>\n",
       "\t<tr><td>1981  </td><td>x1    </td><td>482.05</td></tr>\n",
       "\t<tr><td>1982  </td><td>x1    </td><td>508.54</td></tr>\n",
       "\t<tr><td>1983  </td><td>x1    </td><td>530.45</td></tr>\n",
       "</tbody>\n",
       "</table>\n"
      ],
      "text/latex": [
       "\\begin{tabular}{r|lll}\n",
       " nf & variable & value\\\\\n",
       "\\hline\n",
       "\t 1978   & x1     & 306.00\\\\\n",
       "\t 1979   & x1     & 340.00\\\\\n",
       "\t 1980   & x1     & 429.00\\\\\n",
       "\t 1981   & x1     & 482.05\\\\\n",
       "\t 1982   & x1     & 508.54\\\\\n",
       "\t 1983   & x1     & 530.45\\\\\n",
       "\\end{tabular}\n"
      ],
      "text/plain": [
       "  nf   variable value \n",
       "1 1978 x1       306.00\n",
       "2 1979 x1       340.00\n",
       "3 1980 x1       429.00\n",
       "4 1981 x1       482.05\n",
       "5 1982 x1       508.54\n",
       "6 1983 x1       530.45"
      ]
     },
     "metadata": {},
     "output_type": "display_data"
    }
   ],
   "source": [
    "mt <- melt(tsdf, id='nf')\n",
    "head(mt)"
   ]
  },
  {
   "cell_type": "code",
   "execution_count": 37,
   "metadata": {
    "collapsed": false
   },
   "outputs": [
    {
     "name": "stderr",
     "output_type": "stream",
     "text": [
      "Warning message:\n",
      "\"package 'ggplot2' was built under R version 3.3.2\""
     ]
    }
   ],
   "source": [
    "library(ggplot2)"
   ]
  },
  {
   "cell_type": "code",
   "execution_count": 43,
   "metadata": {
    "collapsed": false
   },
   "outputs": [
    {
     "data": {},
     "metadata": {},
     "output_type": "display_data"
    },
    {
     "data": {
      "image/png": "[encoded data removed]",
      "text/plain": [
       "plot without title"
      ]
     },
     "metadata": {},
     "output_type": "display_data"
    }
   ],
   "source": [
    "ggplot(mt, aes(nf,value,color = variable)) + geom_line()"
   ]
  },
  {
   "cell_type": "code",
   "execution_count": null,
   "metadata": {
    "collapsed": true
   },
   "outputs": [],
   "source": []
  }
 ],
 "metadata": {
  "kernelspec": {
   "display_name": "R 3.3",
   "language": "R",
   "name": "ir33"
  },
  "language_info": {
   "codemirror_mode": "r",
   "file_extension": ".r",
   "mimetype": "text/x-r-source",
   "name": "R",
   "pygments_lexer": "r",
   "version": "3.3.1"
  }
 },
 "nbformat": 4,
 "nbformat_minor": 0
}
