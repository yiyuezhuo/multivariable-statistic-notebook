{
 "cells": [
  {
   "cell_type": "markdown",
   "metadata": {},
   "source": [
    "第一个想到的就是王相及的$\\Phi(x)$法，有人觉得这个要用一般积分法算所以效率很低。然而其实这些挤在$[0,1]$的分布函数好像都有精度很高（比float高）的近似公式。我在某个JavaScript统计库里看到的也是用这些近似公式算\n",
    "\n",
    "下面举《统计计算》P57的例子\n",
    "\n",
    "$$\n",
    "\\Phi(x) = \n",
    "\\begin{cases}\n",
    "0.5(1 + erf(\\frac{x}{\\sqrt{2}})) & x \\ge 0, \\\\\n",
    "0.5(1 - erf(\\frac{|x|}{\\sqrt{2}})) & x <  0, \\\\\n",
    "\\end{cases}\n",
    "$$\n",
    "\n",
    "其中误差函数$erf(x)$定义为\n",
    "\n",
    "$$\n",
    "erf(x) = \\frac{2}{\\sqrt{\\pi}} \\int_0^x e^{-t^2}dt (x > 0)\n",
    "$$\n",
    "\n",
    "所以只要计算出$erf$即可，有近似公式\n",
    "\n",
    "$$\n",
    "erf(x) \\approx 1 - (1 + \\sum_{i=1}^6 a_ix^i)^{-16}\n",
    "$$\n",
    "\n",
    "其中\n",
    "$$\n",
    "\\begin{matrix}\n",
    "a_1 = 0.0705230784 & a_2 = 0.0422820123 & a_3 = 0.0092705272 \\\\ \n",
    "a_4 = 0.0001520143 & a_5 = 0.0002765672 & a_6 = 0.0000430638\n",
    "\\end{matrix}\n",
    "$$\n",
    "\n",
    "其最大绝对误差为$1.3 \\times 10^{-7}$\n",
    "\n",
    "这类近似式子还有很多，比如卡方分布的分位数之类的，当然这些秘制常数就开始多的猎奇了。但起码在这里并没有造成太大困难。"
   ]
  },
  {
   "cell_type": "code",
   "execution_count": null,
   "metadata": {
    "collapsed": true
   },
   "outputs": [],
   "source": []
  }
 ],
 "metadata": {
  "anaconda-cloud": {},
  "kernelspec": {
   "display_name": "R 3.3",
   "language": "R",
   "name": "ir33"
  },
  "language_info": {
   "codemirror_mode": "r",
   "file_extension": ".r",
   "mimetype": "text/x-r-source",
   "name": "R",
   "pygments_lexer": "r",
   "version": "3.3.1"
  }
 },
 "nbformat": 4,
 "nbformat_minor": 0
}
